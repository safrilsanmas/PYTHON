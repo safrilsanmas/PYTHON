{
 "cells": [
  {
   "cell_type": "code",
   "execution_count": 11,
   "id": "647593b7-9682-4c9e-9a54-cffeceb2de20",
   "metadata": {
    "tags": []
   },
   "outputs": [
    {
     "name": "stdout",
     "output_type": "stream",
     "text": [
      "Defaulting to user installation because normal site-packages is not writeable\n",
      "Requirement already satisfied: numpy in c:\\programdata\\anaconda3\\lib\\site-packages (1.24.3)\n",
      "Note: you may need to restart the kernel to use updated packages.\n"
     ]
    }
   ],
   "source": [
    "pip install numpy"
   ]
  },
  {
   "cell_type": "code",
   "execution_count": 5,
   "id": "fc7b6f80-3416-4b49-90d5-8ac038ab796a",
   "metadata": {
    "tags": []
   },
   "outputs": [],
   "source": [
    "import numpy as np"
   ]
  },
  {
   "cell_type": "markdown",
   "id": "b7edae31-c305-43e5-b0b8-7a71978f74f4",
   "metadata": {
    "tags": []
   },
   "source": [
    "### Array"
   ]
  },
  {
   "cell_type": "code",
   "execution_count": 89,
   "id": "aea48fa5-4254-40d2-a6e4-b4fc4ad1e5e9",
   "metadata": {
    "tags": []
   },
   "outputs": [
    {
     "name": "stdout",
     "output_type": "stream",
     "text": [
      "array(object, dtype=None, *, copy=True, order='K', subok=False, ndmin=0,\n",
      "          like=None)\n",
      "\n",
      "    Create an array.\n",
      "\n",
      "    Parameters\n",
      "    ----------\n",
      "    object : array_like\n",
      "        An array, any object exposing the array interface, an object whose\n",
      "        __array__ method returns an array, or any (nested) sequence.\n",
      "        If object is a scalar, a 0-dimensional array containing object is\n",
      "        returned.\n",
      "    dtype : data-type, optional\n",
      "        The desired data-type for the array.  If not given, then the type will\n",
      "        be determined as the minimum type required to hold the objects in the\n",
      "        sequence.\n",
      "    copy : bool, optional\n",
      "        If true (default), then the object is copied.  Otherwise, a copy will\n",
      "        only be made if __array__ returns a copy, if obj is a nested sequence,\n",
      "        or if a copy is needed to satisfy any of the other requirements\n",
      "        (`dtype`, `order`, etc.).\n",
      "    order : {'K', 'A', 'C', 'F'}, optional\n",
      "        Specify the memory layout of the array. If object is not an array, the\n",
      "        newly created array will be in C order (row major) unless 'F' is\n",
      "        specified, in which case it will be in Fortran order (column major).\n",
      "        If object is an array the following holds.\n",
      "\n",
      "        ===== ========= ===================================================\n",
      "        order  no copy                     copy=True\n",
      "        ===== ========= ===================================================\n",
      "        'K'   unchanged F & C order preserved, otherwise most similar order\n",
      "        'A'   unchanged F order if input is F and not C, otherwise C order\n",
      "        'C'   C order   C order\n",
      "        'F'   F order   F order\n",
      "        ===== ========= ===================================================\n",
      "\n",
      "        When ``copy=False`` and a copy is made for other reasons, the result is\n",
      "        the same as if ``copy=True``, with some exceptions for 'A', see the\n",
      "        Notes section. The default order is 'K'.\n",
      "    subok : bool, optional\n",
      "        If True, then sub-classes will be passed-through, otherwise\n",
      "        the returned array will be forced to be a base-class array (default).\n",
      "    ndmin : int, optional\n",
      "        Specifies the minimum number of dimensions that the resulting\n",
      "        array should have.  Ones will be prepended to the shape as\n",
      "        needed to meet this requirement.\n",
      "    like : array_like, optional\n",
      "        Reference object to allow the creation of arrays which are not\n",
      "        NumPy arrays. If an array-like passed in as ``like`` supports\n",
      "        the ``__array_function__`` protocol, the result will be defined\n",
      "        by it. In this case, it ensures the creation of an array object\n",
      "        compatible with that passed in via this argument.\n",
      "\n",
      "        .. versionadded:: 1.20.0\n",
      "\n",
      "    Returns\n",
      "    -------\n",
      "    out : ndarray\n",
      "        An array object satisfying the specified requirements.\n",
      "\n",
      "    See Also\n",
      "    --------\n",
      "    empty_like : Return an empty array with shape and type of input.\n",
      "    ones_like : Return an array of ones with shape and type of input.\n",
      "    zeros_like : Return an array of zeros with shape and type of input.\n",
      "    full_like : Return a new array with shape of input filled with value.\n",
      "    empty : Return a new uninitialized array.\n",
      "    ones : Return a new array setting values to one.\n",
      "    zeros : Return a new array setting values to zero.\n",
      "    full : Return a new array of given shape filled with value.\n",
      "\n",
      "\n",
      "    Notes\n",
      "    -----\n",
      "    When order is 'A' and `object` is an array in neither 'C' nor 'F' order,\n",
      "    and a copy is forced by a change in dtype, then the order of the result is\n",
      "    not necessarily 'C' as expected. This is likely a bug.\n",
      "\n",
      "    Examples\n",
      "    --------\n",
      "    >>> np.array([1, 2, 3])\n",
      "    array([1, 2, 3])\n",
      "\n",
      "    Upcasting:\n",
      "\n",
      "    >>> np.array([1, 2, 3.0])\n",
      "    array([ 1.,  2.,  3.])\n",
      "\n",
      "    More than one dimension:\n",
      "\n",
      "    >>> np.array([[1, 2], [3, 4]])\n",
      "    array([[1, 2],\n",
      "           [3, 4]])\n",
      "\n",
      "    Minimum dimensions 2:\n",
      "\n",
      "    >>> np.array([1, 2, 3], ndmin=2)\n",
      "    array([[1, 2, 3]])\n",
      "\n",
      "    Type provided:\n",
      "\n",
      "    >>> np.array([1, 2, 3], dtype=complex)\n",
      "    array([ 1.+0.j,  2.+0.j,  3.+0.j])\n",
      "\n",
      "    Data-type consisting of more than one element:\n",
      "\n",
      "    >>> x = np.array([(1,2),(3,4)],dtype=[('a','<i4'),('b','<i4')])\n",
      "    >>> x['a']\n",
      "    array([1, 3])\n",
      "\n",
      "    Creating an array from sub-classes:\n",
      "\n",
      "    >>> np.array(np.mat('1 2; 3 4'))\n",
      "    array([[1, 2],\n",
      "           [3, 4]])\n",
      "\n",
      "    >>> np.array(np.mat('1 2; 3 4'), subok=True)\n",
      "    matrix([[1, 2],\n",
      "            [3, 4]])\n"
     ]
    }
   ],
   "source": [
    "print(np.array.__doc__)"
   ]
  },
  {
   "cell_type": "code",
   "execution_count": 16,
   "id": "1ecbc4b9-96c8-4e84-a8de-f3b87b48bfb2",
   "metadata": {
    "tags": []
   },
   "outputs": [
    {
     "data": {
      "text/plain": [
       "array([1, 2, 3])"
      ]
     },
     "execution_count": 16,
     "metadata": {},
     "output_type": "execute_result"
    }
   ],
   "source": [
    "import numpy as np\n",
    "\n",
    "a = np.array([1, 2, 3])\n",
    "\n",
    "a"
   ]
  },
  {
   "cell_type": "code",
   "execution_count": 17,
   "id": "24b813dc-86cd-43c2-80d7-4a68288b2a61",
   "metadata": {
    "tags": []
   },
   "outputs": [
    {
     "data": {
      "text/plain": [
       "array([0., 0., 0., 0., 0., 0.])"
      ]
     },
     "execution_count": 17,
     "metadata": {},
     "output_type": "execute_result"
    }
   ],
   "source": [
    "# you can easly create an array filled with 0s:\n",
    "\n",
    "np.zeros(6)"
   ]
  },
  {
   "cell_type": "code",
   "execution_count": 18,
   "id": "f31115cc-be59-4fa1-820d-76b1dd38c1a3",
   "metadata": {
    "tags": []
   },
   "outputs": [
    {
     "data": {
      "text/plain": [
       "array([1., 1., 1., 1., 1., 1.])"
      ]
     },
     "execution_count": 18,
     "metadata": {},
     "output_type": "execute_result"
    }
   ],
   "source": [
    "# or an array filled with 1s:\n",
    "np.ones(6)"
   ]
  },
  {
   "cell_type": "code",
   "execution_count": 19,
   "id": "b52aebee-83c3-42d0-9dbe-e3779a813b12",
   "metadata": {
    "tags": []
   },
   "outputs": [
    {
     "data": {
      "text/plain": [
       "array([1., 1., 1., 1., 1., 1.])"
      ]
     },
     "execution_count": 19,
     "metadata": {},
     "output_type": "execute_result"
    }
   ],
   "source": [
    "# or even an empty array!\n",
    "# the function empty creates an array whose intial content is random and depends on the state of the memory\n",
    "\n",
    "np.empty(6)"
   ]
  },
  {
   "cell_type": "code",
   "execution_count": 20,
   "id": "95f443df-6976-4f98-b3cb-3625562ebd31",
   "metadata": {
    "tags": []
   },
   "outputs": [
    {
     "name": "stdout",
     "output_type": "stream",
     "text": [
      "[0 1 2 3]\n",
      "[0 2 4 6 8]\n"
     ]
    }
   ],
   "source": [
    "# you can create an array with a range of elemnts\n",
    "\n",
    "print(np.arange(4))\n",
    "print(np.arange(0,10,2)) #(start, stop, step)"
   ]
  },
  {
   "cell_type": "code",
   "execution_count": 21,
   "id": "0a595c45-778e-47b0-9499-2206f79da393",
   "metadata": {
    "tags": []
   },
   "outputs": [
    {
     "data": {
      "text/plain": [
       "array([ 2,  7, 12, 17, 22, 27])"
      ]
     },
     "execution_count": 21,
     "metadata": {},
     "output_type": "execute_result"
    }
   ],
   "source": [
    "np.arange(2,29,5)"
   ]
  },
  {
   "cell_type": "markdown",
   "id": "079bee46-3508-4bb3-874d-d9ba9e097e88",
   "metadata": {
    "jp-MarkdownHeadingCollapsed": true,
    "tags": []
   },
   "source": [
    "### Add, Remove, and Sort"
   ]
  },
  {
   "cell_type": "code",
   "execution_count": 23,
   "id": "144363a0-ee78-44e9-bd9a-ba1fceb46a16",
   "metadata": {
    "tags": []
   },
   "outputs": [
    {
     "data": {
      "text/plain": [
       "array([1, 2, 3, 4, 5, 6, 7, 8, 1, 2])"
      ]
     },
     "execution_count": 23,
     "metadata": {},
     "output_type": "execute_result"
    }
   ],
   "source": [
    "# menambah element ke array dengan np.append()\n",
    "\n",
    "arr = np.array([1,2,3,4,5,6,7,8])\n",
    "\n",
    "np.append(arr, [1,2])"
   ]
  },
  {
   "cell_type": "code",
   "execution_count": 24,
   "id": "dbcbdc98-9c6e-48b5-ae78-2737250af190",
   "metadata": {
    "tags": []
   },
   "outputs": [
    {
     "data": {
      "text/plain": [
       "array([1, 3, 4, 5, 6, 7, 8])"
      ]
     },
     "execution_count": 24,
     "metadata": {},
     "output_type": "execute_result"
    }
   ],
   "source": [
    "# mengahpus element array dengan np.delete()\n",
    "\n",
    "np.delete(arr,1)\n"
   ]
  },
  {
   "cell_type": "code",
   "execution_count": 25,
   "id": "d45bde59-5b31-4e05-9522-0ff2918b1241",
   "metadata": {
    "tags": []
   },
   "outputs": [
    {
     "data": {
      "text/plain": [
       "array([1, 2, 3, 4, 5, 6, 7, 8])"
      ]
     },
     "execution_count": 25,
     "metadata": {},
     "output_type": "execute_result"
    }
   ],
   "source": [
    "# mengurtkan elemen array dengan np.sort()\n",
    "\n",
    "arr = np.array([2,1,5,3,7,4,6,8])\n",
    "\n",
    "np.sort(arr)\n"
   ]
  },
  {
   "cell_type": "markdown",
   "id": "fd5eb0a7-e2d0-4771-9073-62a399163a6e",
   "metadata": {
    "tags": []
   },
   "source": [
    "## Shape and Size"
   ]
  },
  {
   "cell_type": "code",
   "execution_count": 26,
   "id": "9d0f26be-bd0f-4222-8d0e-ea3ee401592e",
   "metadata": {
    "tags": []
   },
   "outputs": [
    {
     "name": "stdout",
     "output_type": "stream",
     "text": [
      "[[[0 1 2 3]\n",
      "  [4 5 6 7]]\n",
      "\n",
      " [[0 1 2 3]\n",
      "  [4 5 6 7]]\n",
      "\n",
      " [[0 1 2 3]\n",
      "  [4 5 6 7]]]\n"
     ]
    }
   ],
   "source": [
    "array_example = np.array([[[0, 1, 2, 3],\n",
    "                           [4, 5, 6, 7]],\n",
    "                          \n",
    "                          [[0, 1, 2, 3],\n",
    "                           [4, 5, 6, 7]],\n",
    "                          \n",
    "                          [[0, 1, 2, 3],\n",
    "                           [4, 5, 6, 7]]])\n",
    "print(array_example)"
   ]
  },
  {
   "cell_type": "code",
   "execution_count": 27,
   "id": "b4009fa3-9013-4c0f-9f95-22630d1a5f86",
   "metadata": {
    "tags": []
   },
   "outputs": [
    {
     "data": {
      "text/plain": [
       "3"
      ]
     },
     "execution_count": 27,
     "metadata": {},
     "output_type": "execute_result"
    }
   ],
   "source": [
    "#ndarray.ndim akan memberi tahu jumlah axes, atau dimensi dari array\n",
    "\n",
    "array_example.ndim"
   ]
  },
  {
   "cell_type": "code",
   "execution_count": 29,
   "id": "4768b7c1-0ce8-4388-b461-9e2a66c91198",
   "metadata": {
    "tags": []
   },
   "outputs": [
    {
     "data": {
      "text/plain": [
       "24"
      ]
     },
     "execution_count": 29,
     "metadata": {},
     "output_type": "execute_result"
    }
   ],
   "source": [
    "#ndaaray.size akan memberi tahu jumlah total elemen array\n",
    "\n",
    "array_example.size"
   ]
  },
  {
   "cell_type": "code",
   "execution_count": 30,
   "id": "4dd7aee2-b60a-4472-a2df-3f5dd2d56232",
   "metadata": {
    "tags": []
   },
   "outputs": [
    {
     "data": {
      "text/plain": [
       "(3, 2, 4)"
      ]
     },
     "execution_count": 30,
     "metadata": {},
     "output_type": "execute_result"
    }
   ],
   "source": [
    "# ndarrray.shape akan menampilkan tuple integer yang menunjukkan jumlah elemen yang disimpan di sepanjang setiap dimensi array. Jika, misalnya memiliki larik 2D dengan 2 baris dan 3 kolom, maka bentuk larik adalah (2,3)\n",
    "array_example.shape"
   ]
  },
  {
   "cell_type": "code",
   "execution_count": 89,
   "id": "3c70a7f9-f316-49ab-9c8c-7b0f9608bd3a",
   "metadata": {
    "tags": []
   },
   "outputs": [
    {
     "name": "stdout",
     "output_type": "stream",
     "text": [
      "2\n",
      "5\n",
      "(1, 5)\n"
     ]
    }
   ],
   "source": [
    "arr_one = np.array([[1,2,3,4,5]])\n",
    "\n",
    "print(arr_one.ndim)\n",
    "\n",
    "print(arr_one.size)\n",
    "\n",
    "print(arr_one.shape)"
   ]
  },
  {
   "cell_type": "markdown",
   "id": "d876807e-a569-4f54-9662-10da0b6a0be3",
   "metadata": {
    "tags": []
   },
   "source": [
    "## Reshape"
   ]
  },
  {
   "cell_type": "markdown",
   "id": "809373bc-473b-4a5d-877a-e89e4154ad21",
   "metadata": {},
   "source": [
    "np.reshape() akan memberikan bentuk baru ke array tanpa mengubah datanya. jumlah elemen awal dan akhir harus sama"
   ]
  },
  {
   "cell_type": "code",
   "execution_count": 6,
   "id": "16cac386-7e4f-4fdf-8eb5-841e4044f182",
   "metadata": {
    "tags": []
   },
   "outputs": [
    {
     "name": "stdout",
     "output_type": "stream",
     "text": [
      "[0 1 2 3 4 5]\n"
     ]
    }
   ],
   "source": [
    "a = np.arange(6)\n",
    "\n",
    "print(a)"
   ]
  },
  {
   "cell_type": "code",
   "execution_count": 91,
   "id": "fe6dadd9-c0b0-4dd5-8cf8-eab183b94b1f",
   "metadata": {
    "tags": []
   },
   "outputs": [
    {
     "data": {
      "text/plain": [
       "array([[0, 1],\n",
       "       [2, 3],\n",
       "       [4, 5]])"
      ]
     },
     "execution_count": 91,
     "metadata": {},
     "output_type": "execute_result"
    }
   ],
   "source": [
    "b = a.reshape(3,2)\n",
    "\n",
    "b"
   ]
  },
  {
   "cell_type": "code",
   "execution_count": 92,
   "id": "08b431d7-4ca6-41ae-a1f0-8d96ab42c061",
   "metadata": {
    "tags": []
   },
   "outputs": [
    {
     "data": {
      "text/plain": [
       "array([[0],\n",
       "       [1],\n",
       "       [2],\n",
       "       [3],\n",
       "       [4],\n",
       "       [5]])"
      ]
     },
     "execution_count": 92,
     "metadata": {},
     "output_type": "execute_result"
    }
   ],
   "source": [
    "a.reshape(6,1)"
   ]
  },
  {
   "cell_type": "markdown",
   "id": "f2618225-57e4-4132-8c54-18307213cb21",
   "metadata": {
    "tags": []
   },
   "source": [
    "## Covert 1D to 2D"
   ]
  },
  {
   "cell_type": "markdown",
   "id": "78461dfd-3603-4ca1-b763-ec520e089f30",
   "metadata": {
    "tags": []
   },
   "source": [
    "* np.newaxis\n",
    "* np.expand_dims\n",
    "\n",
    "digunakan untuk meningkatkan dimensi array yang sudah ada."
   ]
  },
  {
   "cell_type": "markdown",
   "id": "35dcc07c-4cda-47d1-a964-1ec1f8b5511e",
   "metadata": {},
   "source": [
    "* np.newaxis akan meningkatkan dimensi array sebesar satu dimensi bila digunakan sekali. 1D menjadi 2D, 2D menjadi 3D, dst."
   ]
  },
  {
   "cell_type": "code",
   "execution_count": 7,
   "id": "bb0db5e2-646d-4528-87ed-eeb6b03a66b9",
   "metadata": {
    "tags": []
   },
   "outputs": [
    {
     "data": {
      "text/plain": [
       "(6,)"
      ]
     },
     "execution_count": 7,
     "metadata": {},
     "output_type": "execute_result"
    }
   ],
   "source": [
    "a = np.array([1,2,3,4,5,6])\n",
    "a.shape"
   ]
  },
  {
   "cell_type": "code",
   "execution_count": 8,
   "id": "093d7571-d230-4e3f-8e8b-961498fa3b71",
   "metadata": {},
   "outputs": [
    {
     "name": "stdout",
     "output_type": "stream",
     "text": [
      "(1, 6)\n",
      "[[1 2 3 4 5 6]]\n"
     ]
    }
   ],
   "source": [
    "# you can use np.newaxis to add a new axis\n",
    "\n",
    "a2 = a[np.newaxis]\n",
    "print(a2.shape)\n",
    "print(a2)"
   ]
  },
  {
   "cell_type": "code",
   "execution_count": 9,
   "id": "2da27c24-27e4-4489-affc-b21e15f95e0a",
   "metadata": {
    "tags": []
   },
   "outputs": [
    {
     "name": "stdout",
     "output_type": "stream",
     "text": [
      "(1, 6)\n",
      "[[1 2 3 4 5 6]]\n"
     ]
    }
   ],
   "source": [
    "# you can convert a 1D array to a row vector by inserting an axis along the first dimension\n",
    "\n",
    "row_vector = a[np.newaxis, :]\n",
    "print(row_vector.shape)\n",
    "print(row_vector)"
   ]
  },
  {
   "cell_type": "code",
   "execution_count": 11,
   "id": "8c2dade7-5271-435f-ab0a-8de4222ea213",
   "metadata": {
    "tags": []
   },
   "outputs": [
    {
     "name": "stdout",
     "output_type": "stream",
     "text": [
      "(6, 1)\n",
      "[[1]\n",
      " [2]\n",
      " [3]\n",
      " [4]\n",
      " [5]\n",
      " [6]]\n"
     ]
    }
   ],
   "source": [
    "# for a column vector, you can insert an axis along the second dimension\n",
    "\n",
    "col_vector = a[:, np.newaxis]\n",
    "print(col_vector.shape)\n",
    "print(col_vector)"
   ]
  },
  {
   "cell_type": "markdown",
   "id": "75baea6d-ee79-4265-8fe2-eb88d24770a9",
   "metadata": {},
   "source": [
    "memperluas array juga dapan dilakukan dengan memasukkan axis baru pada posisi yang ditentukan dengan np.expand_dims"
   ]
  },
  {
   "cell_type": "code",
   "execution_count": 12,
   "id": "6cab9fe9-6e48-4852-9482-f21497ad31b5",
   "metadata": {
    "tags": []
   },
   "outputs": [
    {
     "data": {
      "text/plain": [
       "(6,)"
      ]
     },
     "execution_count": 12,
     "metadata": {},
     "output_type": "execute_result"
    }
   ],
   "source": [
    "a = np.array([1,2,3,4,5,6])\n",
    "a.shape"
   ]
  },
  {
   "cell_type": "code",
   "execution_count": 13,
   "id": "62b9ea63-bb71-456c-856d-7f4da68cde6a",
   "metadata": {
    "tags": []
   },
   "outputs": [
    {
     "data": {
      "text/plain": [
       "(1, 6)"
      ]
     },
     "execution_count": 13,
     "metadata": {},
     "output_type": "execute_result"
    }
   ],
   "source": [
    "# you can add axis at index positio 0 with :\n",
    "\n",
    "c = np.expand_dims(a, axis=0)\n",
    "c.shape"
   ]
  },
  {
   "cell_type": "markdown",
   "id": "a9ea3868-22c6-4090-bfca-887d46be84b8",
   "metadata": {},
   "source": [
    "### Indexing and Slicing"
   ]
  },
  {
   "cell_type": "markdown",
   "id": "b0b1adaa-ee3f-4cd8-a334-86dfb0e5df58",
   "metadata": {},
   "source": [
    "Index and slice array NumPy dapat dilakukan dengan cara seperti slice lits Python"
   ]
  },
  {
   "cell_type": "code",
   "execution_count": 22,
   "id": "3a358096-ddc3-4ac1-81cd-b754c606a224",
   "metadata": {},
   "outputs": [
    {
     "name": "stdout",
     "output_type": "stream",
     "text": [
      "(5,)\n",
      "[1 2 3 4 5]\n"
     ]
    }
   ],
   "source": [
    "data = np.arange(1,6)\n",
    "print(data.shape)\n",
    "print(data)"
   ]
  },
  {
   "cell_type": "code",
   "execution_count": 23,
   "id": "707e9546-aaac-44a2-9ee2-21ebed9b05b8",
   "metadata": {},
   "outputs": [
    {
     "name": "stdout",
     "output_type": "stream",
     "text": [
      "[1 2 3 4 5]\n",
      "1\n",
      "2\n",
      "[1 2]\n",
      "[2 3 4 5]\n",
      "[4 5]\n"
     ]
    }
   ],
   "source": [
    "print(data)\n",
    "print(data[0])\n",
    "print(data[1])\n",
    "print(data[0:2])\n",
    "print(data[1:])\n",
    "print(data[-2:])"
   ]
  },
  {
   "cell_type": "markdown",
   "id": "36f0cfc1-b839-4f23-a98d-333c919bbd35",
   "metadata": {},
   "source": [
    "jika ingi mengambil bagian dari array atau elemen arry tertentu untuk digunakan dalam analisis lebih lanjut atau operasi tambahan, perlu membuat subset, memotong, dan/atau mengindeks array."
   ]
  },
  {
   "cell_type": "markdown",
   "id": "7efac5ff-77af-4f60-b4a1-86917f8e2134",
   "metadata": {},
   "source": [
    "jika ingin memilih nilai dari array yang memenuhi jondisi tertentu, dapat dilakukan langsung dengan NumPy."
   ]
  },
  {
   "cell_type": "code",
   "execution_count": 25,
   "id": "ab9a60cf-5a5d-4662-bfc2-d3e8af1df871",
   "metadata": {},
   "outputs": [
    {
     "data": {
      "text/plain": [
       "array([[ 1,  2,  3,  4],\n",
       "       [ 5,  6,  7,  8],\n",
       "       [ 9, 10, 11, 12]])"
      ]
     },
     "execution_count": 25,
     "metadata": {},
     "output_type": "execute_result"
    }
   ],
   "source": [
    "data = np.array([[1,2,3,4], [5,6,7,8], [9,10,11,12]])\n",
    "data"
   ]
  },
  {
   "cell_type": "code",
   "execution_count": 27,
   "id": "de564b35-661a-4f88-a639-bef3d6ce54e9",
   "metadata": {},
   "outputs": [
    {
     "name": "stdout",
     "output_type": "stream",
     "text": [
      "[ 5  6  7  8  9 10 11 12]\n"
     ]
    }
   ],
   "source": [
    "# you can easly print all of the values in the array taht are less than 5\n",
    "\n",
    "print(data[data>=5])"
   ]
  },
  {
   "cell_type": "code",
   "execution_count": 29,
   "id": "b82e3c61-50fb-47ab-8396-476919113b00",
   "metadata": {
    "tags": []
   },
   "outputs": [
    {
     "name": "stdout",
     "output_type": "stream",
     "text": [
      "[ 5  6  7  8  9 10 11 12]\n",
      "[ 5  6  7  8  9 10 11 12]\n"
     ]
    }
   ],
   "source": [
    "five_up = (data>=5)\n",
    "\n",
    "print(data[five_up])\n",
    "print(data[data>=5])"
   ]
  },
  {
   "cell_type": "code",
   "execution_count": 32,
   "id": "57e6e74b-0077-49be-bedc-c2eb49d05bf5",
   "metadata": {
    "tags": []
   },
   "outputs": [
    {
     "name": "stdout",
     "output_type": "stream",
     "text": [
      "[ 2  4  6  8 10 12]\n"
     ]
    }
   ],
   "source": [
    "# you can select elements that are divisible by 2\n",
    "\n",
    "divisible_by_2 = data[data%2==0]\n",
    "\n",
    "print(divisible_by_2)"
   ]
  },
  {
   "cell_type": "code",
   "execution_count": 34,
   "id": "0270b2dd-8209-46be-a954-13f7e93d0094",
   "metadata": {
    "tags": []
   },
   "outputs": [
    {
     "name": "stdout",
     "output_type": "stream",
     "text": [
      "[ 3  4  5  6  7  8  9 10]\n"
     ]
    }
   ],
   "source": [
    "# you can select elements that satisfy two condition using the & and | operators\n",
    "\n",
    "c = data[(data > 2) & (data < 11)]\n",
    "\n",
    "print(c)"
   ]
  },
  {
   "cell_type": "markdown",
   "id": "1e220294-c259-4f50-b21c-20cfcc7fe9de",
   "metadata": {},
   "source": [
    "### Creating Array from Existing Data"
   ]
  },
  {
   "cell_type": "code",
   "execution_count": 40,
   "id": "3deca732-739d-4db8-b458-73540fd16317",
   "metadata": {
    "tags": []
   },
   "outputs": [],
   "source": [
    "# you can easly use create a new array from a section of an existing array\n",
    "\n",
    "arr = np.array([1,2,3,4,5,6,7,8,9,10])"
   ]
  },
  {
   "cell_type": "code",
   "execution_count": 49,
   "id": "9457d80b-0107-40fb-9f06-88c5a224e5c2",
   "metadata": {
    "tags": []
   },
   "outputs": [
    {
     "data": {
      "text/plain": [
       "array([3, 4, 5, 6, 7])"
      ]
     },
     "execution_count": 49,
     "metadata": {},
     "output_type": "execute_result"
    }
   ],
   "source": [
    "arr = np.arange(3,8)\n",
    "arr"
   ]
  },
  {
   "cell_type": "markdown",
   "id": "7e9f034c-663b-4f81-a158-3935eaf7be3d",
   "metadata": {},
   "source": [
    "## Stack"
   ]
  },
  {
   "cell_type": "markdown",
   "id": "7139e985-bb94-43c3-9cde-a9015402d1e8",
   "metadata": {},
   "source": [
    "Menumpuk dua array yang ada baik secara vertikal maupun horizontal"
   ]
  },
  {
   "cell_type": "markdown",
   "id": "bf655c9a-619d-4ca1-a3a7-8be08229bc02",
   "metadata": {},
   "source": [
    "a_1:"
   ]
  },
  {
   "cell_type": "code",
   "execution_count": 50,
   "id": "0b87a0bb-340c-46ef-8669-5bbe520a043e",
   "metadata": {
    "tags": []
   },
   "outputs": [],
   "source": [
    "a_1 = np.array([\n",
    "    [1,1],\n",
    "    [2,2]\n",
    "])\n",
    "\n",
    "a_2 = np.array([\n",
    "    [3,3],\n",
    "    [4,4]\n",
    "])  "
   ]
  },
  {
   "cell_type": "code",
   "execution_count": 54,
   "id": "67d11516-c9c5-45dd-bffc-25e3404e66dd",
   "metadata": {
    "tags": []
   },
   "outputs": [
    {
     "data": {
      "text/plain": [
       "array([[1, 1],\n",
       "       [2, 2],\n",
       "       [3, 3],\n",
       "       [4, 4],\n",
       "       [1, 1],\n",
       "       [2, 2]])"
      ]
     },
     "execution_count": 54,
     "metadata": {},
     "output_type": "execute_result"
    }
   ],
   "source": [
    "#vertikal \n",
    "\n",
    "np.vstack((a_1,a_2,a_1))"
   ]
  },
  {
   "cell_type": "code",
   "execution_count": 55,
   "id": "1dc69578-13a5-4ad1-acb6-c250c9b35866",
   "metadata": {
    "tags": []
   },
   "outputs": [
    {
     "data": {
      "text/plain": [
       "array([[1, 1, 3, 3, 3, 3],\n",
       "       [2, 2, 4, 4, 4, 4]])"
      ]
     },
     "execution_count": 55,
     "metadata": {},
     "output_type": "execute_result"
    }
   ],
   "source": [
    "# horizontal\n",
    "\n",
    "np.hstack((a_1, a_2, a_2))"
   ]
  },
  {
   "cell_type": "markdown",
   "id": "04a36bf5-846e-4a37-8d6e-0c305a69c77d",
   "metadata": {},
   "source": [
    "## Split"
   ]
  },
  {
   "cell_type": "markdown",
   "id": "2cf8371a-846c-4cd1-a370-f14ff27b6cef",
   "metadata": {},
   "source": [
    "Membagi sebuah array menjadi beberapa array yang lebih kecil menggunakan hsplit."
   ]
  },
  {
   "cell_type": "code",
   "execution_count": 59,
   "id": "53c2116b-bdb4-4472-b76d-a2a433dfc294",
   "metadata": {},
   "outputs": [
    {
     "data": {
      "text/plain": [
       "array([[ 1,  2,  3,  4,  5,  6,  7,  8,  9, 10, 11, 12],\n",
       "       [13, 14, 15, 16, 17, 18, 19, 20, 21, 22, 23, 24]])"
      ]
     },
     "execution_count": 59,
     "metadata": {},
     "output_type": "execute_result"
    }
   ],
   "source": [
    "arrSplit = np.array([\n",
    "    np.arange(1,13),\n",
    "    np.arange(13,25)\n",
    "])\n",
    "\n",
    "arrSplit"
   ]
  },
  {
   "cell_type": "code",
   "execution_count": 60,
   "id": "50959b7a-c26d-47eb-8eb5-78a3ea487655",
   "metadata": {
    "tags": []
   },
   "outputs": [
    {
     "data": {
      "text/plain": [
       "(2, 12)"
      ]
     },
     "execution_count": 60,
     "metadata": {},
     "output_type": "execute_result"
    }
   ],
   "source": [
    "arrSplit.shape"
   ]
  },
  {
   "cell_type": "code",
   "execution_count": 62,
   "id": "71e1fa26-730a-4709-99ce-f8f636e23eb6",
   "metadata": {
    "tags": []
   },
   "outputs": [
    {
     "data": {
      "text/plain": [
       "[array([[ 1,  2,  3],\n",
       "        [13, 14, 15]]),\n",
       " array([[ 4,  5,  6],\n",
       "        [16, 17, 18]]),\n",
       " array([[ 7,  8,  9],\n",
       "        [19, 20, 21]]),\n",
       " array([[10, 11, 12],\n",
       "        [22, 23, 24]])]"
      ]
     },
     "execution_count": 62,
     "metadata": {},
     "output_type": "execute_result"
    }
   ],
   "source": [
    "np.hsplit(arrSplit, 4)"
   ]
  },
  {
   "cell_type": "code",
   "execution_count": 78,
   "id": "c8feb257-7aca-4227-af8e-c17b776a63a1",
   "metadata": {
    "tags": []
   },
   "outputs": [
    {
     "data": {
      "text/plain": [
       "array([[ 1,  2,  3,  4,  5,  6,  7,  8,  9, 10, 11, 12]])"
      ]
     },
     "execution_count": 78,
     "metadata": {},
     "output_type": "execute_result"
    }
   ],
   "source": [
    "np.vsplit(arrSplit, 2) [0]"
   ]
  },
  {
   "cell_type": "markdown",
   "id": "204c0708-5cc8-42e7-9804-11ce67808280",
   "metadata": {
    "tags": []
   },
   "source": [
    "## Copy and View"
   ]
  },
  {
   "cell_type": "markdown",
   "id": "8381a701-6ce1-4ace-9bfd-60b563b1a6f8",
   "metadata": {},
   "source": [
    "Menggunakan metode view untuk membuat objek array baru yang terlihat sama dengan array asli (shallow copy)."
   ]
  },
  {
   "cell_type": "code",
   "execution_count": 81,
   "id": "132f727b-211b-448d-bec4-55701a60f6b1",
   "metadata": {
    "tags": []
   },
   "outputs": [
    {
     "data": {
      "text/plain": [
       "array([[ 1,  2,  3,  4],\n",
       "       [ 5,  6,  7,  8],\n",
       "       [ 9, 10, 11, 12]])"
      ]
     },
     "execution_count": 81,
     "metadata": {},
     "output_type": "execute_result"
    }
   ],
   "source": [
    "a = np.array([\n",
    "    [1,2,3,4],\n",
    "    [5,6,7,8],\n",
    "    [9,10,11,12]\n",
    "])\n",
    "\n",
    "a   "
   ]
  },
  {
   "cell_type": "code",
   "execution_count": 82,
   "id": "56ae5cc6-318d-4516-a054-78cc059447ad",
   "metadata": {
    "tags": []
   },
   "outputs": [
    {
     "data": {
      "text/plain": [
       "array([[ 1,  2,  3,  4],\n",
       "       [ 5,  6,  7,  8],\n",
       "       [ 9, 10, 11, 12]])"
      ]
     },
     "execution_count": 82,
     "metadata": {},
     "output_type": "execute_result"
    }
   ],
   "source": [
    "# You can create new array object that looks at the same data\n",
    "\n",
    "b = a.view()\n",
    "\n",
    "b"
   ]
  },
  {
   "cell_type": "code",
   "execution_count": 83,
   "id": "c40b9cee-8641-4e5d-8986-1d6b2c317338",
   "metadata": {
    "tags": []
   },
   "outputs": [
    {
     "data": {
      "text/plain": [
       "array([[ 1,  2,  3,  4],\n",
       "       [ 5,  6,  7,  8],\n",
       "       [ 9, 10, 11, 12]])"
      ]
     },
     "execution_count": 83,
     "metadata": {},
     "output_type": "execute_result"
    }
   ],
   "source": [
    "# Using the copy mthod will make a complete copy of the array and its data ( a deep copy).\n",
    "\n",
    "c = a.copy()\n",
    "\n",
    "c"
   ]
  },
  {
   "cell_type": "code",
   "execution_count": 84,
   "id": "05598e94-a558-4a5e-b571-0740c62a4873",
   "metadata": {
    "tags": []
   },
   "outputs": [
    {
     "data": {
      "text/plain": [
       "array([[10,  2,  3,  4],\n",
       "       [ 5,  6,  7,  8],\n",
       "       [ 9, 10, 11, 12]])"
      ]
     },
     "execution_count": 84,
     "metadata": {},
     "output_type": "execute_result"
    }
   ],
   "source": [
    "a[0,0] = 10\n",
    "\n",
    "a"
   ]
  },
  {
   "cell_type": "code",
   "execution_count": 85,
   "id": "d89aefe9-9e4b-4362-abf6-08b63690fa0a",
   "metadata": {
    "tags": []
   },
   "outputs": [
    {
     "data": {
      "text/plain": [
       "array([[10,  2,  3,  4],\n",
       "       [ 5,  6,  7,  8],\n",
       "       [ 9, 10, 11, 12]])"
      ]
     },
     "execution_count": 85,
     "metadata": {},
     "output_type": "execute_result"
    }
   ],
   "source": [
    "b"
   ]
  },
  {
   "cell_type": "code",
   "execution_count": 86,
   "id": "3d963a2f-c5aa-4789-9856-fa146bc529d3",
   "metadata": {
    "tags": []
   },
   "outputs": [
    {
     "data": {
      "text/plain": [
       "array([[ 1,  2,  3,  4],\n",
       "       [ 5,  6,  7,  8],\n",
       "       [ 9, 10, 11, 12]])"
      ]
     },
     "execution_count": 86,
     "metadata": {},
     "output_type": "execute_result"
    }
   ],
   "source": [
    "c"
   ]
  },
  {
   "cell_type": "markdown",
   "id": "8c775730-0cec-44c2-9eb1-92d7bcca2831",
   "metadata": {},
   "source": [
    "### Basic Array Operation"
   ]
  },
  {
   "cell_type": "code",
   "execution_count": 31,
   "id": "4bbfe945-14bf-4a49-8b43-d89c8b54ea2e",
   "metadata": {
    "tags": []
   },
   "outputs": [],
   "source": [
    "a = np.array([1,2,3,4])"
   ]
  },
  {
   "cell_type": "code",
   "execution_count": 32,
   "id": "a1125370-d986-4b66-8a70-4426a20e8556",
   "metadata": {
    "tags": []
   },
   "outputs": [
    {
     "data": {
      "text/plain": [
       "10"
      ]
     },
     "execution_count": 32,
     "metadata": {},
     "output_type": "execute_result"
    }
   ],
   "source": [
    "a.sum()"
   ]
  },
  {
   "cell_type": "code",
   "execution_count": 33,
   "id": "8f1fa2d4-3e59-4ef4-ab82-8f893ddb1467",
   "metadata": {
    "tags": []
   },
   "outputs": [],
   "source": [
    "b = np.array([\n",
    "    [1,1],\n",
    "    [2,2]\n",
    "])"
   ]
  },
  {
   "cell_type": "code",
   "execution_count": 35,
   "id": "5f713d7a-df2e-47de-a283-78e7bde34c99",
   "metadata": {
    "tags": []
   },
   "outputs": [
    {
     "data": {
      "text/plain": [
       "array([[1, 1],\n",
       "       [2, 2]])"
      ]
     },
     "execution_count": 35,
     "metadata": {},
     "output_type": "execute_result"
    }
   ],
   "source": [
    "b"
   ]
  },
  {
   "cell_type": "code",
   "execution_count": 34,
   "id": "c3ab73c9-8969-451d-9d78-6e3d7b9ee4cb",
   "metadata": {
    "tags": []
   },
   "outputs": [
    {
     "data": {
      "text/plain": [
       "array([3, 3])"
      ]
     },
     "execution_count": 34,
     "metadata": {},
     "output_type": "execute_result"
    }
   ],
   "source": [
    "b.sum(axis=0)"
   ]
  },
  {
   "cell_type": "code",
   "execution_count": 36,
   "id": "9232ad35-fa55-49a7-a4fb-f9062e1bb5cd",
   "metadata": {
    "tags": []
   },
   "outputs": [
    {
     "data": {
      "text/plain": [
       "array([2, 4])"
      ]
     },
     "execution_count": 36,
     "metadata": {},
     "output_type": "execute_result"
    }
   ],
   "source": [
    "b.sum(axis=1)"
   ]
  },
  {
   "cell_type": "code",
   "execution_count": 37,
   "id": "13271517-d7b2-439b-b8bd-9c51c30678fc",
   "metadata": {
    "tags": []
   },
   "outputs": [
    {
     "data": {
      "text/plain": [
       "6"
      ]
     },
     "execution_count": 37,
     "metadata": {},
     "output_type": "execute_result"
    }
   ],
   "source": [
    "b.sum()"
   ]
  },
  {
   "cell_type": "code",
   "execution_count": 39,
   "id": "acdd6563-b526-4047-bd0b-b5160f360a71",
   "metadata": {
    "tags": []
   },
   "outputs": [
    {
     "data": {
      "text/plain": [
       "array([1, 2])"
      ]
     },
     "execution_count": 39,
     "metadata": {},
     "output_type": "execute_result"
    }
   ],
   "source": [
    "data = np.array([1,2])\n",
    "data"
   ]
  },
  {
   "cell_type": "code",
   "execution_count": 40,
   "id": "f4903a6b-4e30-4e3a-91cd-73cf791b959e",
   "metadata": {
    "tags": []
   },
   "outputs": [
    {
     "data": {
      "text/plain": [
       "array([1., 1.])"
      ]
     },
     "execution_count": 40,
     "metadata": {},
     "output_type": "execute_result"
    }
   ],
   "source": [
    "ones = np.ones(2)\n",
    "ones"
   ]
  },
  {
   "cell_type": "code",
   "execution_count": 41,
   "id": "efb355e9-a406-4c11-a2d4-d2d8e2a3f559",
   "metadata": {
    "tags": []
   },
   "outputs": [
    {
     "data": {
      "text/plain": [
       "array([2., 3.])"
      ]
     },
     "execution_count": 41,
     "metadata": {},
     "output_type": "execute_result"
    }
   ],
   "source": [
    "data + ones"
   ]
  },
  {
   "cell_type": "code",
   "execution_count": 42,
   "id": "ea828ee3-c058-4622-a1b0-f41691ec4352",
   "metadata": {
    "tags": []
   },
   "outputs": [
    {
     "data": {
      "text/plain": [
       "array([1., 2.])"
      ]
     },
     "execution_count": 42,
     "metadata": {},
     "output_type": "execute_result"
    }
   ],
   "source": [
    "data * ones"
   ]
  },
  {
   "cell_type": "code",
   "execution_count": 43,
   "id": "8690433d-ca99-48f9-8a34-5f4f3453a771",
   "metadata": {
    "tags": []
   },
   "outputs": [
    {
     "data": {
      "text/plain": [
       "array([1., 2.])"
      ]
     },
     "execution_count": 43,
     "metadata": {},
     "output_type": "execute_result"
    }
   ],
   "source": [
    "data / ones"
   ]
  },
  {
   "cell_type": "markdown",
   "id": "9eadd178-f2cd-4744-bae6-84ebc666f7bf",
   "metadata": {
    "tags": []
   },
   "source": [
    "### Broadcasting"
   ]
  },
  {
   "cell_type": "markdown",
   "id": "6c582129-e85a-43cf-aa0c-b4bceb4c0d12",
   "metadata": {},
   "source": [
    "Broadcasting adalah mekanisme yang memungkinkan harusNumPy melakukan operasi pada array dengan bentuk berbeda. Dimensi array harus kompatinel, misalnya jika dimensi kedua array sama atau salah satunya adalah 1. Jika dimensinya tidak kompatibel, maka akan mendapatkan balue arror."
   ]
  },
  {
   "cell_type": "code",
   "execution_count": 44,
   "id": "a418465a-3583-42f9-910c-30473d1d5cc2",
   "metadata": {
    "tags": []
   },
   "outputs": [
    {
     "data": {
      "text/plain": [
       "array([11, 12])"
      ]
     },
     "execution_count": 44,
     "metadata": {},
     "output_type": "execute_result"
    }
   ],
   "source": [
    "data + 10"
   ]
  },
  {
   "cell_type": "code",
   "execution_count": 45,
   "id": "0e4d49fb-49e2-4107-94c4-ae5c15eb3f9b",
   "metadata": {
    "tags": []
   },
   "outputs": [
    {
     "data": {
      "text/plain": [
       "array([10, 20])"
      ]
     },
     "execution_count": 45,
     "metadata": {},
     "output_type": "execute_result"
    }
   ],
   "source": [
    "data * 10"
   ]
  },
  {
   "cell_type": "code",
   "execution_count": 46,
   "id": "029ff02b-4d50-4b3f-8f10-2b2bcff976a8",
   "metadata": {
    "tags": []
   },
   "outputs": [
    {
     "data": {
      "text/plain": [
       "7"
      ]
     },
     "execution_count": 46,
     "metadata": {},
     "output_type": "execute_result"
    }
   ],
   "source": [
    "array_example.max()"
   ]
  },
  {
   "cell_type": "code",
   "execution_count": 47,
   "id": "4fd59c90-b4eb-4afd-b85d-2b58a9d498db",
   "metadata": {
    "tags": []
   },
   "outputs": [
    {
     "data": {
      "text/plain": [
       "0"
      ]
     },
     "execution_count": 47,
     "metadata": {},
     "output_type": "execute_result"
    }
   ],
   "source": [
    "array_example.min()"
   ]
  },
  {
   "cell_type": "code",
   "execution_count": 48,
   "id": "0c7aa274-f41f-4f99-8779-13a92c9b488b",
   "metadata": {
    "tags": []
   },
   "outputs": [
    {
     "data": {
      "text/plain": [
       "84"
      ]
     },
     "execution_count": 48,
     "metadata": {},
     "output_type": "execute_result"
    }
   ],
   "source": [
    "array_example.sum()"
   ]
  },
  {
   "cell_type": "code",
   "execution_count": 49,
   "id": "2773c1a3-f80c-4310-b9c9-b2630bce5c3c",
   "metadata": {
    "tags": []
   },
   "outputs": [
    {
     "data": {
      "text/plain": [
       "array([[6.23042070e-307, 4.67296746e-307, 1.69121096e-306],\n",
       "       [6.23058707e-307, 2.22526399e-307, 6.23053614e-307],\n",
       "       [7.56592338e-307, 9.34588061e-307, 3.62651150e-317]])"
      ]
     },
     "execution_count": 49,
     "metadata": {},
     "output_type": "execute_result"
    }
   ],
   "source": [
    "A = np.empty((3,3))\n",
    "A"
   ]
  },
  {
   "cell_type": "code",
   "execution_count": 51,
   "id": "84ee2d95-5f70-4883-82b6-8d90663e2988",
   "metadata": {
    "tags": []
   },
   "outputs": [
    {
     "data": {
      "text/plain": [
       "array([[0.45 , 0.17 , 0.34 , 0.55 ],\n",
       "       [0.54 , 0.051, 0.4  , 0.556],\n",
       "       [0.127, 0.824, 0.265, 0.569]])"
      ]
     },
     "execution_count": 51,
     "metadata": {},
     "output_type": "execute_result"
    }
   ],
   "source": [
    "A = np.array([[0.45, 0.17, 0.34, 0.55],\n",
    "              [0.54, 0.051, 0.40, 0.556],\n",
    "              [0.127, 0.824, 0.265, 0.569]])\n",
    "A"
   ]
  },
  {
   "cell_type": "code",
   "execution_count": 52,
   "id": "61ffbd06-d6f8-4039-ac72-63b74936c153",
   "metadata": {
    "tags": []
   },
   "outputs": [
    {
     "data": {
      "text/plain": [
       "array([0.127, 0.051, 0.265, 0.55 ])"
      ]
     },
     "execution_count": 52,
     "metadata": {},
     "output_type": "execute_result"
    }
   ],
   "source": [
    "A.min(axis=0)"
   ]
  },
  {
   "cell_type": "code",
   "execution_count": 53,
   "id": "3c4fc65e-1306-4ffc-98a0-413c39d48bf7",
   "metadata": {
    "tags": []
   },
   "outputs": [
    {
     "data": {
      "text/plain": [
       "array([0.17 , 0.051, 0.127])"
      ]
     },
     "execution_count": 53,
     "metadata": {},
     "output_type": "execute_result"
    }
   ],
   "source": [
    "A.min(axis=1)"
   ]
  },
  {
   "cell_type": "code",
   "execution_count": 57,
   "id": "3eb4ccb9-8dc9-47c3-8111-37e30029eaf8",
   "metadata": {
    "tags": []
   },
   "outputs": [
    {
     "name": "stdout",
     "output_type": "stream",
     "text": [
      "[0.54  0.824 0.4   0.569]\n",
      "[0.55  0.556 0.824]\n"
     ]
    }
   ],
   "source": [
    "print(A.max(axis=0))\n",
    "print(A.max(axis=1))"
   ]
  },
  {
   "cell_type": "markdown",
   "id": "3b48208c-5374-4829-a602-c5ae8341f1dd",
   "metadata": {
    "jp-MarkdownHeadingCollapsed": true,
    "tags": []
   },
   "source": [
    "### Matrices"
   ]
  },
  {
   "cell_type": "code",
   "execution_count": 59,
   "id": "1f97eabc-4dde-4d29-862a-e19bf0b11d92",
   "metadata": {
    "tags": []
   },
   "outputs": [
    {
     "data": {
      "text/plain": [
       "array([[1., 1.],\n",
       "       [1., 1.],\n",
       "       [1., 1.]])"
      ]
     },
     "execution_count": 59,
     "metadata": {},
     "output_type": "execute_result"
    }
   ],
   "source": [
    "np.ones((3,2))"
   ]
  },
  {
   "cell_type": "code",
   "execution_count": 60,
   "id": "0f231b2f-afbd-4eb2-ac83-98d0082d30a2",
   "metadata": {
    "tags": []
   },
   "outputs": [
    {
     "data": {
      "text/plain": [
       "array([[0., 0.],\n",
       "       [0., 0.],\n",
       "       [0., 0.]])"
      ]
     },
     "execution_count": 60,
     "metadata": {},
     "output_type": "execute_result"
    }
   ],
   "source": [
    "np.zeros((3,2))"
   ]
  },
  {
   "cell_type": "code",
   "execution_count": 61,
   "id": "28e42d84-7f12-4169-a2c9-52895a657304",
   "metadata": {
    "tags": []
   },
   "outputs": [
    {
     "data": {
      "text/plain": [
       "array([[0.52502368, 0.4753221 ],\n",
       "       [0.98768026, 0.03408109],\n",
       "       [0.34005374, 0.98697817]])"
      ]
     },
     "execution_count": 61,
     "metadata": {},
     "output_type": "execute_result"
    }
   ],
   "source": [
    "np.random.random((3,2))"
   ]
  },
  {
   "cell_type": "code",
   "execution_count": 63,
   "id": "cf9a7a5f-5a25-4786-9db4-d53f1f9c3077",
   "metadata": {
    "tags": []
   },
   "outputs": [
    {
     "data": {
      "text/plain": [
       "array([[1, 2],\n",
       "       [3, 4]])"
      ]
     },
     "execution_count": 63,
     "metadata": {},
     "output_type": "execute_result"
    }
   ],
   "source": [
    "data = np.array([[1,2], [3,4]])\n",
    "data"
   ]
  },
  {
   "cell_type": "code",
   "execution_count": 68,
   "id": "024ea24f-1c61-483b-b90b-38789c1a67ca",
   "metadata": {
    "tags": []
   },
   "outputs": [
    {
     "data": {
      "text/plain": [
       "array([[1., 1.],\n",
       "       [1., 1.]])"
      ]
     },
     "execution_count": 68,
     "metadata": {},
     "output_type": "execute_result"
    }
   ],
   "source": [
    "one = np.ones((2,2))\n",
    "one"
   ]
  },
  {
   "cell_type": "code",
   "execution_count": 69,
   "id": "c1d6749b-4809-44de-9de8-90607e77d5d3",
   "metadata": {
    "tags": []
   },
   "outputs": [
    {
     "name": "stdout",
     "output_type": "stream",
     "text": [
      "[[2. 3.]\n",
      " [4. 5.]]\n"
     ]
    }
   ],
   "source": [
    "print(data + one)"
   ]
  },
  {
   "cell_type": "code",
   "execution_count": 70,
   "id": "321fe6b5-9eb9-4313-baf0-139c4277498b",
   "metadata": {
    "tags": []
   },
   "outputs": [
    {
     "data": {
      "text/plain": [
       "array([[1., 1.]])"
      ]
     },
     "execution_count": 70,
     "metadata": {},
     "output_type": "execute_result"
    }
   ],
   "source": [
    "one_row = np.ones((1,2))\n",
    "one_row"
   ]
  },
  {
   "cell_type": "code",
   "execution_count": 71,
   "id": "5c58a8c5-cc5c-45c8-bd51-a7140a408497",
   "metadata": {
    "tags": []
   },
   "outputs": [
    {
     "name": "stdout",
     "output_type": "stream",
     "text": [
      "[[2. 3.]\n",
      " [4. 5.]]\n"
     ]
    }
   ],
   "source": [
    "print(data + one_row)"
   ]
  },
  {
   "cell_type": "code",
   "execution_count": 72,
   "id": "c873438f-e561-4587-9be8-88c4ec137971",
   "metadata": {
    "tags": []
   },
   "outputs": [],
   "source": [
    "b = np.array([1,2])"
   ]
  },
  {
   "cell_type": "code",
   "execution_count": 73,
   "id": "70611792-6723-4890-ae0f-d7cfd6993e3f",
   "metadata": {
    "tags": []
   },
   "outputs": [
    {
     "name": "stdout",
     "output_type": "stream",
     "text": [
      "[[2 4]\n",
      " [4 6]]\n"
     ]
    }
   ],
   "source": [
    "print( data+ b)"
   ]
  },
  {
   "cell_type": "code",
   "execution_count": 75,
   "id": "352b0ae9-3f05-4257-9390-a362665cad92",
   "metadata": {
    "tags": []
   },
   "outputs": [
    {
     "name": "stdout",
     "output_type": "stream",
     "text": [
      "[[1 2 3]\n",
      " [4 5 6]]\n",
      "(2, 3)\n",
      "[[ 7  8]\n",
      " [ 9 10]\n",
      " [11 12]]\n",
      "(3, 2)\n"
     ]
    }
   ],
   "source": [
    "a_1 = np.array([[1,2,3], [4,5,6]])\n",
    "print(a_1)\n",
    "print(a_1.shape)\n",
    "\n",
    "a_2 = np.array([[7,8], [9,10], [11,12]])\n",
    "print(a_2)\n",
    "print(a_2.shape)"
   ]
  },
  {
   "cell_type": "code",
   "execution_count": 77,
   "id": "cc40efce-84df-4092-b091-76c47d3aaa7f",
   "metadata": {
    "tags": []
   },
   "outputs": [
    {
     "data": {
      "text/plain": [
       "(2, 2)"
      ]
     },
     "execution_count": 77,
     "metadata": {},
     "output_type": "execute_result"
    }
   ],
   "source": [
    "np.dot(a_1, a_2).shape"
   ]
  },
  {
   "cell_type": "code",
   "execution_count": 78,
   "id": "714cac5a-8f29-4673-b2aa-fa614231eb56",
   "metadata": {
    "tags": []
   },
   "outputs": [
    {
     "data": {
      "text/plain": [
       "array([[1, 2],\n",
       "       [3, 4],\n",
       "       [5, 6]])"
      ]
     },
     "execution_count": 78,
     "metadata": {},
     "output_type": "execute_result"
    }
   ],
   "source": [
    "data = np.array([[1,2], [3,4], [5,6]])\n",
    "data"
   ]
  },
  {
   "cell_type": "code",
   "execution_count": 79,
   "id": "d3ea0da2-100e-4b41-8f08-5d8bbb66e73f",
   "metadata": {
    "tags": []
   },
   "outputs": [
    {
     "name": "stdout",
     "output_type": "stream",
     "text": [
      "[1 2]\n"
     ]
    }
   ],
   "source": [
    "print(data[0])"
   ]
  },
  {
   "cell_type": "code",
   "execution_count": 82,
   "id": "c4b01de5-2088-482f-a102-0bdb63340189",
   "metadata": {
    "tags": []
   },
   "outputs": [
    {
     "name": "stdout",
     "output_type": "stream",
     "text": [
      "2\n"
     ]
    }
   ],
   "source": [
    "print(data[0,1])"
   ]
  },
  {
   "cell_type": "code",
   "execution_count": 84,
   "id": "21f6267f-e602-414e-bcc1-6e45b3925751",
   "metadata": {
    "tags": []
   },
   "outputs": [
    {
     "name": "stdout",
     "output_type": "stream",
     "text": [
      "5\n"
     ]
    }
   ],
   "source": [
    "print(data[2,0])"
   ]
  },
  {
   "cell_type": "code",
   "execution_count": 85,
   "id": "7d546cf4-75e1-400a-98ab-fafe16e49a0c",
   "metadata": {
    "tags": []
   },
   "outputs": [
    {
     "name": "stdout",
     "output_type": "stream",
     "text": [
      "[[1 2]\n",
      " [3 4]]\n"
     ]
    }
   ],
   "source": [
    "print(data[0:2])"
   ]
  },
  {
   "cell_type": "code",
   "execution_count": 86,
   "id": "a9af934b-5986-4d07-b8fe-9159635fafc2",
   "metadata": {
    "tags": []
   },
   "outputs": [
    {
     "name": "stdout",
     "output_type": "stream",
     "text": [
      "[[3 4]\n",
      " [5 6]]\n"
     ]
    }
   ],
   "source": [
    "print(data[1:])"
   ]
  },
  {
   "cell_type": "code",
   "execution_count": 87,
   "id": "bdb04b75-af44-4654-8270-e65d36265681",
   "metadata": {
    "tags": []
   },
   "outputs": [
    {
     "name": "stdout",
     "output_type": "stream",
     "text": [
      "[2 4 6]\n"
     ]
    }
   ],
   "source": [
    "print(data[:,1])"
   ]
  },
  {
   "cell_type": "markdown",
   "id": "292b4dcb-88b7-4346-a8ac-aeac82bacfc5",
   "metadata": {
    "jp-MarkdownHeadingCollapsed": true,
    "tags": []
   },
   "source": [
    "### Matrix Agregation"
   ]
  },
  {
   "cell_type": "code",
   "execution_count": 94,
   "id": "72efa2f8-2d0a-426f-9372-94030647c6cd",
   "metadata": {
    "tags": []
   },
   "outputs": [
    {
     "name": "stdout",
     "output_type": "stream",
     "text": [
      "[[1 2]\n",
      " [3 4]\n",
      " [5 6]]\n"
     ]
    }
   ],
   "source": [
    "print(data)"
   ]
  },
  {
   "cell_type": "code",
   "execution_count": 97,
   "id": "936f0e12-4d06-4219-bfc7-668949259a10",
   "metadata": {
    "tags": []
   },
   "outputs": [
    {
     "name": "stdout",
     "output_type": "stream",
     "text": [
      "6\n",
      "1\n",
      "21\n"
     ]
    }
   ],
   "source": [
    "print(data.max())\n",
    "print(data.min())\n",
    "print(data.sum())"
   ]
  },
  {
   "cell_type": "code",
   "execution_count": 98,
   "id": "01394959-cfa7-4ea9-89cf-c849928f8bc1",
   "metadata": {
    "tags": []
   },
   "outputs": [
    {
     "name": "stdout",
     "output_type": "stream",
     "text": [
      "[5 6]\n",
      "[2 4 6]\n"
     ]
    }
   ],
   "source": [
    "print(data.max(axis=0))\n",
    "print(data.max(axis=1))"
   ]
  },
  {
   "cell_type": "markdown",
   "id": "aee9c76d-8a17-4187-9333-d2e67c325b98",
   "metadata": {
    "tags": []
   },
   "source": [
    "### Transposing and Reshaping"
   ]
  },
  {
   "cell_type": "markdown",
   "id": "913f7a08-36f8-45d7-a4c4-3e8d2e1d8236",
   "metadata": {},
   "source": [
    "Array NumPy memiliki properti yang disebut T untuk mendapatkan transpos dari sebuah matriks."
   ]
  },
  {
   "cell_type": "code",
   "execution_count": 100,
   "id": "0ec628ec-c3e6-435e-a487-4a8d9a9f6fb0",
   "metadata": {
    "tags": []
   },
   "outputs": [
    {
     "name": "stdout",
     "output_type": "stream",
     "text": [
      "[[1 2]\n",
      " [3 4]\n",
      " [5 6]]\n"
     ]
    }
   ],
   "source": [
    "print(data)"
   ]
  },
  {
   "cell_type": "code",
   "execution_count": 101,
   "id": "0d7dac32-d7e9-4cee-9452-f5545be778ce",
   "metadata": {
    "tags": []
   },
   "outputs": [
    {
     "name": "stdout",
     "output_type": "stream",
     "text": [
      "[[1 3 5]\n",
      " [2 4 6]]\n"
     ]
    }
   ],
   "source": [
    "print(data.T)"
   ]
  },
  {
   "cell_type": "code",
   "execution_count": 104,
   "id": "f6952a7f-8055-4bf3-9a3c-7acf7b9f1bd5",
   "metadata": {
    "tags": []
   },
   "outputs": [
    {
     "name": "stdout",
     "output_type": "stream",
     "text": [
      "[[1]\n",
      " [2]\n",
      " [3]\n",
      " [4]\n",
      " [5]\n",
      " [6]]\n"
     ]
    }
   ],
   "source": [
    "data_col = np.array([[1,2,3,4,5,6]]).T\n",
    "print(data_col)"
   ]
  },
  {
   "cell_type": "code",
   "execution_count": 105,
   "id": "c6de3866-2451-4f8c-983a-6ac1320e06fc",
   "metadata": {
    "tags": []
   },
   "outputs": [
    {
     "data": {
      "text/plain": [
       "array([[1, 2, 3],\n",
       "       [4, 5, 6]])"
      ]
     },
     "execution_count": 105,
     "metadata": {},
     "output_type": "execute_result"
    }
   ],
   "source": [
    "data_col.reshape(2,3)"
   ]
  },
  {
   "cell_type": "code",
   "execution_count": 106,
   "id": "a081ee19-ef0a-4191-8ad7-2bdef5ec2e8c",
   "metadata": {
    "tags": []
   },
   "outputs": [
    {
     "data": {
      "text/plain": [
       "array([[1, 2],\n",
       "       [3, 4],\n",
       "       [5, 6]])"
      ]
     },
     "execution_count": 106,
     "metadata": {},
     "output_type": "execute_result"
    }
   ],
   "source": [
    "data_col.reshape(3,2)"
   ]
  },
  {
   "cell_type": "code",
   "execution_count": 107,
   "id": "9ffb05de-e15f-4e88-8612-1f2cb03c9a5e",
   "metadata": {
    "tags": []
   },
   "outputs": [
    {
     "data": {
      "text/plain": [
       "array([[0, 1, 2],\n",
       "       [3, 4, 5]])"
      ]
     },
     "execution_count": 107,
     "metadata": {},
     "output_type": "execute_result"
    }
   ],
   "source": [
    "arr = np.arange(6).reshape((2,3))\n",
    "arr"
   ]
  },
  {
   "cell_type": "markdown",
   "id": "1bb631d5-5f77-4fea-9bd8-c0babb887677",
   "metadata": {},
   "source": [
    "### N-Dimensional Array"
   ]
  },
  {
   "cell_type": "code",
   "execution_count": 108,
   "id": "8cd15394-3cef-4b76-b2ae-27cebcdafecd",
   "metadata": {
    "tags": []
   },
   "outputs": [],
   "source": [
    "ndarr = np.array([\n",
    "    [\n",
    "        [1,2],\n",
    "        [3,4]\n",
    "    ],[\n",
    "        [5,6],\n",
    "        [7,8]\n",
    "    ]\n",
    "])   "
   ]
  },
  {
   "cell_type": "code",
   "execution_count": 109,
   "id": "4a929823-2304-4ef5-9e48-60ff37480911",
   "metadata": {
    "tags": []
   },
   "outputs": [
    {
     "data": {
      "text/plain": [
       "(2, 2, 2)"
      ]
     },
     "execution_count": 109,
     "metadata": {},
     "output_type": "execute_result"
    }
   ],
   "source": [
    "ndarr.shape"
   ]
  },
  {
   "cell_type": "code",
   "execution_count": 112,
   "id": "6a42c131-b411-4cc2-b393-fac5f1e2027c",
   "metadata": {
    "tags": []
   },
   "outputs": [
    {
     "name": "stdout",
     "output_type": "stream",
     "text": [
      "[[[1. 1.]\n",
      "  [1. 1.]\n",
      "  [1. 1.]]\n",
      "\n",
      " [[1. 1.]\n",
      "  [1. 1.]\n",
      "  [1. 1.]]\n",
      "\n",
      " [[1. 1.]\n",
      "  [1. 1.]\n",
      "  [1. 1.]]\n",
      "\n",
      " [[1. 1.]\n",
      "  [1. 1.]\n",
      "  [1. 1.]]]\n"
     ]
    }
   ],
   "source": [
    "print(np.ones((4,3,2)))"
   ]
  },
  {
   "cell_type": "code",
   "execution_count": 113,
   "id": "2deafe06-0fe6-42d7-bc6e-d47f47382d9e",
   "metadata": {
    "tags": []
   },
   "outputs": [
    {
     "name": "stdout",
     "output_type": "stream",
     "text": [
      "[[[0. 0.]\n",
      "  [0. 0.]\n",
      "  [0. 0.]]\n",
      "\n",
      " [[0. 0.]\n",
      "  [0. 0.]\n",
      "  [0. 0.]]\n",
      "\n",
      " [[0. 0.]\n",
      "  [0. 0.]\n",
      "  [0. 0.]]\n",
      "\n",
      " [[0. 0.]\n",
      "  [0. 0.]\n",
      "  [0. 0.]]]\n"
     ]
    }
   ],
   "source": [
    "print(np.zeros((4,3,2)))"
   ]
  },
  {
   "cell_type": "code",
   "execution_count": 115,
   "id": "b333397c-5d26-4711-b1fc-d40bb802e668",
   "metadata": {
    "tags": []
   },
   "outputs": [
    {
     "name": "stdout",
     "output_type": "stream",
     "text": [
      "[[[0.47550837 0.84768567]\n",
      "  [0.57039093 0.13082712]\n",
      "  [0.11827991 0.81315342]]\n",
      "\n",
      " [[0.45272898 0.51165429]\n",
      "  [0.3304972  0.82129679]\n",
      "  [0.64161419 0.19546299]]\n",
      "\n",
      " [[0.59665945 0.66992773]\n",
      "  [0.65545348 0.03893928]\n",
      "  [0.30948939 0.56692501]]\n",
      "\n",
      " [[0.60954929 0.89412699]\n",
      "  [0.48944585 0.7008708 ]\n",
      "  [0.58675802 0.38735292]]]\n"
     ]
    }
   ],
   "source": [
    "print(np.random.random((4,3,2)))"
   ]
  },
  {
   "cell_type": "markdown",
   "id": "61afb785-0f1c-476f-9d75-91c8618914be",
   "metadata": {
    "tags": []
   },
   "source": [
    "### Flatom N-Dimensional Array"
   ]
  },
  {
   "cell_type": "markdown",
   "id": "0df34ae5-64c6-4370-a177-abea54fa23e0",
   "metadata": {},
   "source": [
    "Ada dua cara populer untuk meratakan array : .flatten() dan .ravel(). Perbedaan utama antara keduanya adalah bahwa array baru yang dibuat menggunak .ravel merupakan referensi ke array induk. "
   ]
  },
  {
   "cell_type": "code",
   "execution_count": 116,
   "id": "56f7458e-83d3-4100-a616-462e1443c325",
   "metadata": {
    "tags": []
   },
   "outputs": [],
   "source": [
    "arr = np.random.random((4,3,2))"
   ]
  },
  {
   "cell_type": "code",
   "execution_count": 117,
   "id": "bb9632ae-84f5-4548-ad1f-b4e5c29b18c8",
   "metadata": {
    "tags": []
   },
   "outputs": [
    {
     "data": {
      "text/plain": [
       "(4, 3, 2)"
      ]
     },
     "execution_count": 117,
     "metadata": {},
     "output_type": "execute_result"
    }
   ],
   "source": [
    "arr.shape"
   ]
  },
  {
   "cell_type": "code",
   "execution_count": 118,
   "id": "cecf3044-97ff-4d6c-90f2-b19ccc6b15bb",
   "metadata": {
    "tags": []
   },
   "outputs": [
    {
     "data": {
      "text/plain": [
       "3"
      ]
     },
     "execution_count": 118,
     "metadata": {},
     "output_type": "execute_result"
    }
   ],
   "source": [
    "arr.ndim"
   ]
  },
  {
   "cell_type": "code",
   "execution_count": 122,
   "id": "417f6b36-2955-4a79-b4a6-e5a2837c964c",
   "metadata": {
    "tags": []
   },
   "outputs": [
    {
     "data": {
      "text/plain": [
       "1"
      ]
     },
     "execution_count": 122,
     "metadata": {},
     "output_type": "execute_result"
    }
   ],
   "source": [
    "arr_flatten = arr.flatten()\n",
    "arr_flatten.ndim"
   ]
  },
  {
   "cell_type": "markdown",
   "id": "619a352f-399b-4037-a4d4-0f4b794f8667",
   "metadata": {
    "tags": []
   },
   "source": [
    "### Working with Math Formulas"
   ]
  },
  {
   "attachments": {
    "c918389a-50db-47a3-b15d-aa858efd8a9b.png": {
     "image/png": "[encoded data removed]"
    }
   },
   "cell_type": "markdown",
   "id": "3d064348-5f12-42f0-b713-6453273123f0",
   "metadata": {},
   "source": [
    "![Screenshot 2023-08-31 212600.png](attachment:c918389a-50db-47a3-b15d-aa858efd8a9b.png)"
   ]
  },
  {
   "cell_type": "code",
   "execution_count": 87,
   "id": "a95ae3f8-2d5b-4333-81f8-a7ec928d70a7",
   "metadata": {
    "tags": []
   },
   "outputs": [
    {
     "ename": "SyntaxError",
     "evalue": "incomplete input (2505620874.py, line 1)",
     "output_type": "error",
     "traceback": [
      "\u001b[1;36m  Cell \u001b[1;32mIn[87], line 1\u001b[1;36m\u001b[0m\n\u001b[1;33m    error = (1/n) * np.sum(np.square(observed - prediction)\u001b[0m\n\u001b[1;37m                                                           ^\u001b[0m\n\u001b[1;31mSyntaxError\u001b[0m\u001b[1;31m:\u001b[0m incomplete input\n"
     ]
    }
   ],
   "source": [
    "error = (1/n) * np.sum(np.square(observed - prediction)"
   ]
  },
  {
   "cell_type": "code",
   "execution_count": 126,
   "id": "cad97c4d-2416-4200-9f2a-9c531774e81d",
   "metadata": {
    "tags": []
   },
   "outputs": [],
   "source": [
    "arr = np. arange(1, 100, 3)"
   ]
  },
  {
   "cell_type": "code",
   "execution_count": 127,
   "id": "fffb4352-6ec5-46f1-8c64-5384c6a3b717",
   "metadata": {
    "tags": []
   },
   "outputs": [
    {
     "name": "stdout",
     "output_type": "stream",
     "text": [
      "97\n"
     ]
    }
   ],
   "source": [
    "print(arr.max())"
   ]
  },
  {
   "cell_type": "code",
   "execution_count": 128,
   "id": "1f52226e-1db9-41e7-878c-0737769d83dc",
   "metadata": {
    "tags": []
   },
   "outputs": [
    {
     "data": {
      "text/plain": [
       "49.0"
      ]
     },
     "execution_count": 128,
     "metadata": {},
     "output_type": "execute_result"
    }
   ],
   "source": [
    "arr.mean()"
   ]
  },
  {
   "cell_type": "code",
   "execution_count": 129,
   "id": "cb3e63b2-0927-4c32-a2d2-8c862e414614",
   "metadata": {
    "tags": []
   },
   "outputs": [
    {
     "data": {
      "text/plain": [
       "49.0"
      ]
     },
     "execution_count": 129,
     "metadata": {},
     "output_type": "execute_result"
    }
   ],
   "source": [
    "np.median(arr)"
   ]
  },
  {
   "cell_type": "code",
   "execution_count": 130,
   "id": "0b2464eb-46fe-436f-bdc5-02670809545a",
   "metadata": {
    "tags": []
   },
   "outputs": [
    {
     "data": {
      "text/plain": [
       "array([0.        , 1.38629436, 1.94591015, 2.30258509, 2.56494936,\n",
       "       2.77258872, 2.94443898, 3.09104245, 3.21887582, 3.33220451,\n",
       "       3.4339872 , 3.52636052, 3.61091791, 3.68887945, 3.76120012,\n",
       "       3.8286414 , 3.8918203 , 3.95124372, 4.00733319, 4.06044301,\n",
       "       4.11087386, 4.15888308, 4.20469262, 4.24849524, 4.29045944,\n",
       "       4.33073334, 4.36944785, 4.40671925, 4.44265126, 4.47733681,\n",
       "       4.51085951, 4.54329478, 4.57471098])"
      ]
     },
     "execution_count": 130,
     "metadata": {},
     "output_type": "execute_result"
    }
   ],
   "source": [
    "np.log(arr)"
   ]
  }
 ],
 "metadata": {
  "kernelspec": {
   "display_name": "Python 3 (ipykernel)",
   "language": "python",
   "name": "python3"
  },
  "language_info": {
   "codemirror_mode": {
    "name": "ipython",
    "version": 3
   },
   "file_extension": ".py",
   "mimetype": "text/x-python",
   "name": "python",
   "nbconvert_exporter": "python",
   "pygments_lexer": "ipython3",
   "version": "3.11.4"
  }
 },
 "nbformat": 4,
 "nbformat_minor": 5
}
